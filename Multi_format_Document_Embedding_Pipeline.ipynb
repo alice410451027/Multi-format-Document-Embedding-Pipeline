{
  "nbformat": 4,
  "nbformat_minor": 0,
  "metadata": {
    "colab": {
      "provenance": [],
      "gpuType": "T4",
      "private_outputs": true,
      "include_colab_link": true
    },
    "kernelspec": {
      "name": "python3",
      "display_name": "Python 3"
    },
    "language_info": {
      "name": "python"
    },
    "accelerator": "GPU"
  },
  "cells": [
    {
      "cell_type": "markdown",
      "metadata": {
        "id": "view-in-github",
        "colab_type": "text"
      },
      "source": [
        "<a href=\"https://colab.research.google.com/github/alice410451027/Multi-format-Document-Embedding-Pipeline/blob/main/Multi_format_Document_Embedding_Pipeline.ipynb\" target=\"_parent\"><img src=\"https://colab.research.google.com/assets/colab-badge.svg\" alt=\"Open In Colab\"/></a>"
      ]
    },
    {
      "cell_type": "markdown",
      "source": [
        "#Embedding Documents into Vectors"
      ],
      "metadata": {
        "id": "9z16UWbCuDf5"
      }
    },
    {
      "cell_type": "markdown",
      "source": [
        "### 1. Create Upload Folder"
      ],
      "metadata": {
        "id": "2x0CkPdF8O4n"
      }
    },
    {
      "cell_type": "code",
      "execution_count": null,
      "metadata": {
        "id": "Gfq9Ca9C71vz"
      },
      "outputs": [],
      "source": [
        "import os\n",
        "upload_dir = \"uploaded_docs\"\n",
        "os.makedirs(upload_dir, exist_ok=True)\n",
        "print(f\"Please place your .txt, .pdf, .docx files into this folder: {upload_dir}\")"
      ]
    },
    {
      "cell_type": "markdown",
      "source": [
        "<font color=\"red\">Please manually upload your file to continue</font>"
      ],
      "metadata": {
        "id": "rzgPmz8U8dig"
      }
    },
    {
      "cell_type": "markdown",
      "source": [
        "### 2. Install Required Packages and Import Modules"
      ],
      "metadata": {
        "id": "xyEPtSec8XHm"
      }
    },
    {
      "cell_type": "code",
      "source": [
        "!pip install -U langchain langchain-community pypdf python-docx sentence-transformers faiss-cpu"
      ],
      "metadata": {
        "id": "mWVwCLE49l2F"
      },
      "execution_count": null,
      "outputs": []
    },
    {
      "cell_type": "code",
      "source": [
        "from langchain_community.document_loaders import TextLoader, PyPDFLoader, UnstructuredWordDocumentLoader\n",
        "from langchain.text_splitter import RecursiveCharacterTextSplitter\n",
        "from langchain.embeddings import HuggingFaceEmbeddings\n",
        "from langchain.vectorstores import FAISS"
      ],
      "metadata": {
        "id": "vl3FTfQM8VE1"
      },
      "execution_count": null,
      "outputs": []
    },
    {
      "cell_type": "markdown",
      "source": [
        "### 3. Custom E5 Embedding Class (recommended by E5 documentation)"
      ],
      "metadata": {
        "id": "BQVRqMsu-V78"
      }
    },
    {
      "cell_type": "code",
      "source": [
        "from langchain.embeddings import HuggingFaceEmbeddings\n",
        "\n",
        "class CustomE5Embedding(HuggingFaceEmbeddings):\n",
        "    def embed_documents(self, texts):\n",
        "        texts = [f\"passage: {t}\" for t in texts]\n",
        "        return super().embed_documents(texts)\n",
        "\n",
        "    def embed_query(self, text):\n",
        "        return super().embed_query(f\"query: {text}\")"
      ],
      "metadata": {
        "id": "Hs3YZvis9CiJ"
      },
      "execution_count": null,
      "outputs": []
    },
    {
      "cell_type": "markdown",
      "source": [
        "### 4. Load Documents"
      ],
      "metadata": {
        "id": "jmWZud76-jRt"
      }
    },
    {
      "cell_type": "code",
      "source": [
        "from langchain.schema import Document\n",
        "import pandas as pd\n",
        "\n",
        "folder_path = upload_dir\n",
        "documents = []\n",
        "\n",
        "for file in os.listdir(folder_path):\n",
        "    path = os.path.join(folder_path, file)\n",
        "    if file.endswith(\".txt\"):\n",
        "        loader = TextLoader(path)\n",
        "        documents.extend(loader.load())\n",
        "    elif file.endswith(\".pdf\"):\n",
        "        loader = PyPDFLoader(path)\n",
        "        documents.extend(loader.load())\n",
        "    elif file.endswith(\".docx\"):\n",
        "        loader = UnstructuredWordDocumentLoader(path)\n",
        "        documents.extend(loader.load())\n",
        "    elif file.endswith(\".csv\"):\n",
        "        df = pd.read_csv(path)\n",
        "        for idx, row in df.iterrows():\n",
        "            content = row.to_string(index=False)\n",
        "            documents.append(Document(page_content=content))\n",
        "    else:\n",
        "        continue"
      ],
      "metadata": {
        "id": "cfZPj3Oo-fPZ"
      },
      "execution_count": null,
      "outputs": []
    },
    {
      "cell_type": "markdown",
      "source": [
        "### 5. Create Vector Database"
      ],
      "metadata": {
        "id": "wvg1cAwn-rLC"
      }
    },
    {
      "cell_type": "code",
      "source": [
        "splitter = RecursiveCharacterTextSplitter(chunk_size=500, chunk_overlap=100)\n",
        "split_docs = splitter.split_documents(documents)"
      ],
      "metadata": {
        "id": "EMke5c4n-m1s"
      },
      "execution_count": null,
      "outputs": []
    },
    {
      "cell_type": "code",
      "source": [
        "import os\n",
        "print(\"Files inside uploaded_docs:\", os.listdir(\"uploaded_docs\"))"
      ],
      "metadata": {
        "id": "z5OPHFIUkuF8"
      },
      "execution_count": null,
      "outputs": []
    },
    {
      "cell_type": "code",
      "source": [
        "print(len(split_docs))"
      ],
      "metadata": {
        "id": "IamUWN53kG8L"
      },
      "execution_count": null,
      "outputs": []
    },
    {
      "cell_type": "code",
      "source": [
        "embedding_model = CustomE5Embedding(model_name=\"intfloat/multilingual-e5-small\")\n",
        "vectorstore = FAISS.from_documents(split_docs, embedding_model)"
      ],
      "metadata": {
        "id": "RZqJOiaE-vrI"
      },
      "execution_count": null,
      "outputs": []
    },
    {
      "cell_type": "markdown",
      "source": [
        "### 6. Save Vectorstore"
      ],
      "metadata": {
        "id": "dqvR4i8Y-5du"
      }
    },
    {
      "cell_type": "code",
      "source": [
        "vectorstore.save_local(\"faiss_db\")\n",
        "!zip -r faiss_db.zip faiss_db\n",
        "print(\"✅ Vector database has been compressed and saved as 'faiss_db.zip'.\")"
      ],
      "metadata": {
        "id": "KxdIhkku-2Zf"
      },
      "execution_count": null,
      "outputs": []
    }
  ]
}